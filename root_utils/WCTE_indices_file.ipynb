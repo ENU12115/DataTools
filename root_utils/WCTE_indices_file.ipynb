{
 "cells": [
  {
   "cell_type": "markdown",
   "id": "missing-hardware",
   "metadata": {},
   "source": [
    "# Dataset Index Generation\n",
    "Generates indices for train, validation and test sets"
   ]
  },
  {
   "cell_type": "code",
   "execution_count": 1,
   "id": "superb-conducting",
   "metadata": {
    "scrolled": true
   },
   "outputs": [],
   "source": [
    "import h5py\n",
    "import re\n",
    "import numpy as np"
   ]
  },
  {
   "cell_type": "markdown",
   "id": "heavy-poker",
   "metadata": {},
   "source": [
    "## Options"
   ]
  },
  {
   "cell_type": "code",
   "execution_count": 2,
   "id": "specific-richmond",
   "metadata": {},
   "outputs": [],
   "source": [
    "# define which files of events are included in test / validation / training split\n",
    "# the same split is done for each particle type\n",
    "test_files_start = 0\n",
    "test_files_stop = test_files_start+400 # first 400 files are for test set\n",
    "val_files_start = test_files_stop\n",
    "val_files_stop = val_files_start+100 # next 100 files are for validation set\n",
    "train_files_start = val_files_stop\n",
    "train_files_stop = None # all remaining files are for training set\n",
    "# train_files_stop = 500 # next 500 files are for training set\n",
    "\n",
    "# define which particle labels to include 0=gamma 1=electron 2=muon 3=pi0\n",
    "#labels = (0, 1, 2, 3) # 4 class\n",
    "labels = (1,) # 1 class electrons\n",
    "#labels = (2,) # 1 class muons\n",
    "#labels = (1,2,) # 2 class e & mu"
   ]
  },
  {
   "cell_type": "markdown",
   "id": "studied-nursing",
   "metadata": {},
   "source": [
    "## Load dataset"
   ]
  },
  {
   "cell_type": "code",
   "execution_count": 3,
   "id": "727ca012",
   "metadata": {},
   "outputs": [],
   "source": [
    "data_path = \"/fast_scratch/WatChMaL/data/WCTE/WCTE_e-_1M_mu-_1M_0to1.5GeV.h5\"\n",
    "f = h5py.File(data_path, \"r\")\n",
    "event_labels = np.array(f['labels'])\n",
    "root_files = np.array(f['root_files']).astype(str)"
   ]
  },
  {
   "cell_type": "markdown",
   "id": "597bf16f",
   "metadata": {},
   "source": [
    "### Define a cut to choose which events to keep"
   ]
  },
  {
   "cell_type": "code",
   "execution_count": 4,
   "id": "e1e094e3",
   "metadata": {},
   "outputs": [],
   "source": [
    "event_hits_index = np.array(f[\"event_hits_index\"])\n",
    "nhits = np.diff(event_hits_index, append=f[\"hit_pmt\"].shape[0])\n",
    "\n",
    "veto = np.array(f['veto']) # removes events with particles that escape tank, based on truth info but not entirely correct\n",
    "\n",
    "cut = ((nhits>10) # keep only events with more than 10 hits\n",
    "      & (veto==0) # keep only FC events\n",
    "      )"
   ]
  },
  {
   "cell_type": "markdown",
   "id": "right-salem",
   "metadata": {},
   "source": [
    "## Find the files of each label and indices of each file"
   ]
  },
  {
   "cell_type": "code",
   "execution_count": 5,
   "id": "narrow-courtesy",
   "metadata": {},
   "outputs": [],
   "source": [
    "def atoi(text):\n",
    "    return int(text) if text.isdigit() else text\n",
    "# Sort by only the basename of the file, with natural sorting of numbers in the filename\n",
    "def natural_keys(text):\n",
    "    return [ atoi(c) for c in re.split(r'(\\d+)', text.split('/')[-1]) ]"
   ]
  },
  {
   "cell_type": "code",
   "execution_count": 6,
   "id": "color-frequency",
   "metadata": {},
   "outputs": [],
   "source": [
    "files_in_labels = {l: sorted(set(root_files[event_labels==l]), key=natural_keys) for l in labels}\n",
    "idxs_in_files = {f: np.arange(i, i+c) for f,i,c in zip(*np.unique(root_files, return_index=True, return_counts=True))}"
   ]
  },
  {
   "cell_type": "code",
   "execution_count": 7,
   "id": "educated-brazil",
   "metadata": {},
   "outputs": [
    {
     "name": "stdout",
     "output_type": "stream",
     "text": [
      "label 1 has 1000 files and  1000000 indices\n"
     ]
    }
   ],
   "source": [
    "for l, f in files_in_labels.items():\n",
    "    print(\"label\", l,\"has\", len(f),\"files and \", sum([len(idxs_in_files[i]) for i in f]), \"indices\")"
   ]
  },
  {
   "cell_type": "code",
   "execution_count": 8,
   "id": "1bfca49f",
   "metadata": {},
   "outputs": [],
   "source": [
    "# select the events that are not cut\n",
    "selected_idxs_in_files = {k: v[cut[v]] for k,v in idxs_in_files.items()}"
   ]
  },
  {
   "cell_type": "code",
   "execution_count": 9,
   "id": "ca6dbb0c",
   "metadata": {},
   "outputs": [
    {
     "name": "stdout",
     "output_type": "stream",
     "text": [
      "label 1 has 1000 files and  127791 selected indices\n"
     ]
    }
   ],
   "source": [
    "for l, f in files_in_labels.items():\n",
    "    print(\"label\", l,\"has\", len(f),\"files and \", sum([len(selected_idxs_in_files[i]) for i in f]), \"selected indices\")"
   ]
  },
  {
   "cell_type": "markdown",
   "id": "different-spine",
   "metadata": {},
   "source": [
    "## Create the splits"
   ]
  },
  {
   "cell_type": "code",
   "execution_count": 10,
   "id": "pursuant-desert",
   "metadata": {
    "scrolled": true
   },
   "outputs": [],
   "source": [
    "split_files = {\"test_idxs\":  [f for l in labels for f in files_in_labels[l][test_files_start:test_files_stop]],\n",
    "               \"val_idxs\":   [f for l in labels for f in files_in_labels[l][val_files_start:val_files_stop]],\n",
    "               \"train_idxs\": [f for l in labels for f in files_in_labels[l][train_files_start:train_files_stop]]}\n",
    "split_idxs = {k: [i for f in v for i in selected_idxs_in_files[f]] for k, v in split_files.items()}"
   ]
  },
  {
   "cell_type": "code",
   "execution_count": 11,
   "id": "novel-settlement",
   "metadata": {},
   "outputs": [
    {
     "name": "stdout",
     "output_type": "stream",
     "text": [
      "test_idxs has 400 files and 50986 indices\n",
      "val_idxs has 100 files and 12805 indices\n",
      "train_idxs has 500 files and 64000 indices\n"
     ]
    }
   ],
   "source": [
    "for s in split_files.keys():\n",
    "    print(s,\"has\", len(split_files[s]),\"files and\", len(split_idxs[s]),\"indices\")"
   ]
  },
  {
   "cell_type": "code",
   "execution_count": 12,
   "id": "oriental-faith",
   "metadata": {},
   "outputs": [
    {
     "name": "stdout",
     "output_type": "stream",
     "text": [
      "2000000\n",
      "257207\n",
      "127791\n",
      "127791\n"
     ]
    }
   ],
   "source": [
    "# Verify that all events are uniquely accounted for\n",
    "all_indices = np.concatenate(list(split_idxs.values()))\n",
    "print(len(event_labels))\n",
    "print(len(event_labels[cut]))\n",
    "print(len(all_indices))\n",
    "print(len(set(all_indices)))"
   ]
  },
  {
   "cell_type": "markdown",
   "id": "natural-google",
   "metadata": {},
   "source": [
    "## Save file"
   ]
  },
  {
   "cell_type": "code",
   "execution_count": 13,
   "id": "statutory-force",
   "metadata": {},
   "outputs": [],
   "source": [
    "#np.savez('/fast_scratch/WatChMaL/data/WCTE/index_lists/WCTE_e-_1M_mu-_1M_0to1.5GeV_1class_e-.npz', **split_idxs)\n",
    "#np.savez('/fast_scratch/WatChMaL/data/WCTE/index_lists/WCTE_e-_1M_mu-_1M_0to1.5GeV_1class_mu-.npz', **split_idxs)\n",
    "#np.savez('/fast_scratch/WatChMaL/data/WCTE/index_lists/WCTE_e-_1M_mu-_1M_0to1.5GeV_2class.npz', **split_idxs)\n",
    "np.savez('/fast_scratch/WatChMaL/data/WCTE/index_lists/WCTE_e-_1M_mu-_1M_0to1.5GeV_1class_e-_FC.npz', **split_idxs)"
   ]
  }
 ],
 "metadata": {
  "kernelspec": {
   "display_name": "Python 3 (ipykernel)",
   "language": "python",
   "name": "python3"
  },
  "language_info": {
   "codemirror_mode": {
    "name": "ipython",
    "version": 3
   },
   "file_extension": ".py",
   "mimetype": "text/x-python",
   "name": "python",
   "nbconvert_exporter": "python",
   "pygments_lexer": "ipython3",
   "version": "3.10.12"
  }
 },
 "nbformat": 4,
 "nbformat_minor": 5
}
